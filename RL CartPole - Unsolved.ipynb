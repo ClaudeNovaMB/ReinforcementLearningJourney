{
 "cells": [
  {
   "cell_type": "markdown",
   "metadata": {},
   "source": [
    "# The Cartpole Problem\n",
    "\n",
    "> 1. The cart needs to move either left or right to ensure the pole is balanced\n",
    "> 2. The action space is (Cart position, Cart velocity, Pole Angle, Pole velocity at the tip)\n"
   ]
  },
  {
   "cell_type": "code",
   "execution_count": 1,
   "metadata": {},
   "outputs": [],
   "source": [
    "# Importing module\n",
    "import gym\n",
    "import PIL\n",
    "%matplotlib inline\n",
    "# I tried the Ipython display and Matplotlib Plotly combinitions to render the images\n",
    "# but found it was extremely slow. PIL works great!"
   ]
  },
  {
   "cell_type": "code",
   "execution_count": 2,
   "metadata": {},
   "outputs": [
    {
     "data": {
      "text/plain": [
       "array([ 0.01173999,  0.01392068, -0.03256886, -0.00628616])"
      ]
     },
     "execution_count": 2,
     "metadata": {},
     "output_type": "execute_result"
    }
   ],
   "source": [
    "# Creating the environment\n",
    "env = gym.make('CartPole-v0')\n",
    "env.reset()"
   ]
  },
  {
   "cell_type": "code",
   "execution_count": 3,
   "metadata": {},
   "outputs": [
    {
     "name": "stdout",
     "output_type": "stream",
     "text": [
      "Box(4,)\n",
      "[-4.8000002e+00 -3.4028235e+38 -4.1887903e-01 -3.4028235e+38]\n",
      "[4.8000002e+00 3.4028235e+38 4.1887903e-01 3.4028235e+38]\n"
     ]
    }
   ],
   "source": [
    "# Viewing the environment\n",
    "print(env.observation_space)\n",
    "print(env.observation_space.low)\n",
    "print(env.observation_space.high)"
   ]
  },
  {
   "cell_type": "code",
   "execution_count": 4,
   "metadata": {},
   "outputs": [
    {
     "data": {
      "text/plain": [
       "Discrete(2)"
      ]
     },
     "execution_count": 4,
     "metadata": {},
     "output_type": "execute_result"
    }
   ],
   "source": [
    "# Viewing the no of actions for the environment\n",
    "env.action_space"
   ]
  },
  {
   "cell_type": "code",
   "execution_count": 5,
   "metadata": {},
   "outputs": [
    {
     "name": "stdout",
     "output_type": "stream",
     "text": [
      "[-0.00850676 -0.01339378  0.02120198 -0.01666174]\n"
     ]
    }
   ],
   "source": [
    "print(env.reset())"
   ]
  },
  {
   "cell_type": "code",
   "execution_count": 6,
   "metadata": {},
   "outputs": [
    {
     "name": "stdout",
     "output_type": "stream",
     "text": [
      "Episode:0, Return: 19.0\n",
      "Episode:10, Return: 14.0\n",
      "Episode:20, Return: 40.0\n",
      "Episode:30, Return: 22.0\n",
      "Episode:40, Return: 20.0\n",
      "Episode:50, Return: 26.0\n",
      "Episode:60, Return: 15.0\n",
      "Episode:70, Return: 40.0\n",
      "Episode:80, Return: 32.0\n",
      "Episode:90, Return: 20.0\n"
     ]
    }
   ],
   "source": [
    "# Interacting with the environment in random fashion without building a Q table\n",
    "num_episodes = 100\n",
    "num_timesteps = 50\n",
    "for eps in range(num_episodes):\n",
    "    Return = 0\n",
    "    state = env.reset()\n",
    "    for ts in range(num_timesteps):\n",
    "        PIL.Image.fromarray(env.render(mode='rgb_array')).resize((320, 420))\n",
    "        random_action = env.action_space.sample()\n",
    "        next_step, reward, done, info = env.step(random_action)\n",
    "        Return = Return + reward\n",
    "        if done:\n",
    "            break\n",
    "    if eps%10==0:\n",
    "        print(\"Episode:{}, Return: {}\".format(eps, Return))\n",
    "env.close()"
   ]
  }
 ],
 "metadata": {
  "kernelspec": {
   "display_name": "Python 3",
   "language": "python",
   "name": "python3"
  },
  "language_info": {
   "codemirror_mode": {
    "name": "ipython",
    "version": 3
   },
   "file_extension": ".py",
   "mimetype": "text/x-python",
   "name": "python",
   "nbconvert_exporter": "python",
   "pygments_lexer": "ipython3",
   "version": "3.6.10"
  }
 },
 "nbformat": 4,
 "nbformat_minor": 4
}
